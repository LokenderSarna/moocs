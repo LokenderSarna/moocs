{
 "cells": [
  {
   "cell_type": "code",
   "execution_count": 1,
   "metadata": {
    "collapsed": true
   },
   "outputs": [],
   "source": [
    "import tensorflow as tf\n",
    "import numpy as np"
   ]
  },
  {
   "cell_type": "code",
   "execution_count": 11,
   "metadata": {
    "collapsed": false
   },
   "outputs": [
    {
     "name": "stdout",
     "output_type": "stream",
     "text": [
      "4.0 1.22474 [[ 0.85133618  0.85557723]\n",
      " [ 0.29630151  0.65223348]]\n",
      "[[10 20 30 40]\n",
      " [40 30 20 10]]\n",
      "hello2\n"
     ]
    }
   ],
   "source": [
    "def softmax(x):\n",
    "    norm_x = x - tf.reduce_max(x, axis=1, keep_dims=True)\n",
    "    exp_x = tf.exp(norm_x)\n",
    "    denom = tf.reduce_sum(exp_x, axis=1, keep_dims=True)\n",
    "    out = exp_x / denom\n",
    "    return out \n",
    "\n",
    "\n",
    "sess = tf.Session()\n",
    "shape = np.array([2,2])\n",
    "denom = tf.to_float(tf.reduce_sum(shape))\n",
    "mult = tf.sqrt(6.0 / denom)\n",
    "out = mult * tf.random_uniform(shape)\n",
    "\n",
    "(denom, mult, out)  = sess.run([denom, mult, out])\n",
    "print denom, mult, out\n",
    "\n",
    "\n",
    "params = tf.constant([10,20,30,40])\n",
    "ids = tf.constant([[0,1,2,3],[3,2,1,0]])\n",
    "print tf.nn.embedding_lookup(params,ids).eval(session=sess)\n",
    "\n",
    "print \"hello\" + str(2)"
   ]
  },
  {
   "cell_type": "code",
   "execution_count": null,
   "metadata": {
    "collapsed": true
   },
   "outputs": [],
   "source": []
  }
 ],
 "metadata": {
  "anaconda-cloud": {},
  "kernelspec": {
   "display_name": "Python [conda root]",
   "language": "python",
   "name": "conda-root-py"
  },
  "language_info": {
   "codemirror_mode": {
    "name": "ipython",
    "version": 2
   },
   "file_extension": ".py",
   "mimetype": "text/x-python",
   "name": "python",
   "nbconvert_exporter": "python",
   "pygments_lexer": "ipython2",
   "version": "2.7.13"
  }
 },
 "nbformat": 4,
 "nbformat_minor": 2
}
