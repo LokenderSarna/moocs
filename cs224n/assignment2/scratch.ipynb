{
 "cells": [
  {
   "cell_type": "code",
   "execution_count": 22,
   "metadata": {
    "collapsed": true
   },
   "outputs": [],
   "source": [
    "import tensorflow as tf\n",
    "import numpy as np"
   ]
  },
  {
   "cell_type": "code",
   "execution_count": 24,
   "metadata": {
    "collapsed": false
   },
   "outputs": [
    {
     "name": "stdout",
     "output_type": "stream",
     "text": [
      "[[ 0.26894143  0.7310586 ]\n",
      " [ 0.26894143  0.7310586 ]]\n"
     ]
    }
   ],
   "source": [
    "def softmax(x):\n",
    "    norm_x = x - tf.reduce_max(x, axis=1, keep_dims=True)\n",
    "    exp_x = tf.exp(norm_x)\n",
    "    denom = tf.reduce_sum(exp_x, axis=1, keep_dims=True)\n",
    "    out = exp_x / denom\n",
    "    return out \n",
    "\n",
    "sess = tf.Session()\n",
    "x = softmax(tf.constant(np.array([[1001,1002],[3,4]]), dtype=tf.float32))\n",
    "print sess.run(x)\n"
   ]
  },
  {
   "cell_type": "code",
   "execution_count": null,
   "metadata": {
    "collapsed": true
   },
   "outputs": [],
   "source": []
  }
 ],
 "metadata": {
  "anaconda-cloud": {},
  "kernelspec": {
   "display_name": "Python [conda root]",
   "language": "python",
   "name": "conda-root-py"
  },
  "language_info": {
   "codemirror_mode": {
    "name": "ipython",
    "version": 2
   },
   "file_extension": ".py",
   "mimetype": "text/x-python",
   "name": "python",
   "nbconvert_exporter": "python",
   "pygments_lexer": "ipython2",
   "version": "2.7.13"
  }
 },
 "nbformat": 4,
 "nbformat_minor": 2
}
